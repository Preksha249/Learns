{
  "nbformat": 4,
  "nbformat_minor": 0,
  "metadata": {
    "colab": {
      "provenance": [],
      "authorship_tag": "ABX9TyOF7z0d19uqvvFRcHZfFERJ",
      "include_colab_link": true
    },
    "kernelspec": {
      "name": "python3",
      "display_name": "Python 3"
    },
    "language_info": {
      "name": "python"
    }
  },
  "cells": [
    {
      "cell_type": "markdown",
      "metadata": {
        "id": "view-in-github",
        "colab_type": "text"
      },
      "source": [
        "<a href=\"https://colab.research.google.com/github/Preksha249/NLP_Basic/blob/main/Stemming.ipynb\" target=\"_parent\"><img src=\"https://colab.research.google.com/assets/colab-badge.svg\" alt=\"Open In Colab\"/></a>"
      ]
    },
    {
      "cell_type": "code",
      "execution_count": 2,
      "metadata": {
        "colab": {
          "base_uri": "https://localhost:8080/"
        },
        "id": "mMARyBaXASwd",
        "outputId": "ac7752c1-6ab9-42f3-e3a8-740332231764"
      },
      "outputs": [
        {
          "output_type": "stream",
          "name": "stdout",
          "text": [
            "Like : like\n",
            "Liking : like\n",
            "Likes : like\n"
          ]
        }
      ],
      "source": [
        "import nltk\n",
        "\n",
        "from nltk.stem import PorterStemmer\n",
        "\n",
        "ps = PorterStemmer()\n",
        "\n",
        "# def stem(text):\n",
        "#     return \" \".join([ps.stem(word) for word in text.split()])\n",
        "\n",
        "#choose some words to be setmmed\n",
        "words = [\"Like\", \"Liking\", \"Likes\"]\n",
        "\n",
        "for i in words:\n",
        "    print(i, \":\", ps.stem(i))"
      ]
    },
    {
      "cell_type": "code",
      "source": [],
      "metadata": {
        "id": "DqRivn59EQoo"
      },
      "execution_count": null,
      "outputs": []
    }
  ]
}