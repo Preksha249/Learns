{
  "nbformat": 4,
  "nbformat_minor": 0,
  "metadata": {
    "colab": {
      "provenance": [],
      "authorship_tag": "ABX9TyNJIfMW9Nbaxs9enM8wHpH8",
      "include_colab_link": true
    },
    "kernelspec": {
      "name": "python3",
      "display_name": "Python 3"
    },
    "language_info": {
      "name": "python"
    }
  },
  "cells": [
    {
      "cell_type": "markdown",
      "metadata": {
        "id": "view-in-github",
        "colab_type": "text"
      },
      "source": [
        "<a href=\"https://colab.research.google.com/github/Preksha249/Learns/blob/main/tokenization.ipynb\" target=\"_parent\"><img src=\"https://colab.research.google.com/assets/colab-badge.svg\" alt=\"Open In Colab\"/></a>"
      ]
    },
    {
      "cell_type": "markdown",
      "source": [
        "LINE TOKENIZATION"
      ],
      "metadata": {
        "id": "xv6cDd8b85kY"
      }
    },
    {
      "cell_type": "code",
      "execution_count": 5,
      "metadata": {
        "colab": {
          "base_uri": "https://localhost:8080/"
        },
        "id": "ku8wvc_Q5ohO",
        "outputId": "4dd21594-c4c8-465f-8b6b-5e56d6dda459"
      },
      "outputs": [
        {
          "output_type": "stream",
          "name": "stdout",
          "text": [
            "['Welcome to great learning.', 'I am very happy to be learning about tokenization']\n"
          ]
        },
        {
          "output_type": "stream",
          "name": "stderr",
          "text": [
            "[nltk_data] Downloading package punkt to /root/nltk_data...\n",
            "[nltk_data]   Package punkt is already up-to-date!\n"
          ]
        }
      ],
      "source": [
        "import nltk\n",
        "# Download the punkt tokenizer models\n",
        "nltk.download('punkt')\n",
        "\n",
        "data = \"Welcome to great learning. I am very happy to be learning about tokenization\"\n",
        "tokens = nltk.sent_tokenize(data) # function call sent_tokenize. sent variable and say I want to see the tokenized sentence\n",
        "print(tokens)"
      ]
    },
    {
      "cell_type": "markdown",
      "source": [
        "WORD TOKENIZATION"
      ],
      "metadata": {
        "id": "mkQdVwUR89TE"
      }
    },
    {
      "cell_type": "code",
      "source": [
        "tokens = nltk.word_tokenize(data)\n",
        "print(tokens)\n",
        "\n",
        "#counts of words\n",
        "#count takes argument\n",
        "# tokens.count()\n",
        "type(tokens)\n",
        "\n",
        "#since it's list so call as length\n",
        "len(tokens)"
      ],
      "metadata": {
        "colab": {
          "base_uri": "https://localhost:8080/"
        },
        "id": "lOmQylH37gyM",
        "outputId": "5d6e16a4-e61a-4be0-c4a9-7a515f8c060d"
      },
      "execution_count": 8,
      "outputs": [
        {
          "output_type": "stream",
          "name": "stdout",
          "text": [
            "['Welcome', 'to', 'great', 'learning', '.', 'I', 'am', 'very', 'happy', 'to', 'be', 'learning', 'about', 'tokenization']\n"
          ]
        },
        {
          "output_type": "execute_result",
          "data": {
            "text/plain": [
              "14"
            ]
          },
          "metadata": {},
          "execution_count": 8
        }
      ]
    }
  ]
}